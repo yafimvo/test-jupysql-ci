{
 "cells": [
  {
   "cell_type": "markdown",
   "id": "f09df847",
   "metadata": {},
   "source": [
    "# SQL formatting"
   ]
  },
  {
   "cell_type": "markdown",
   "id": "4ebd8538",
   "metadata": {
    "user_expressions": []
   },
   "source": [
    "To enable SQL formatting, install `jupysql-plugin`:\n",
    "\n",
    "```sh\n",
    "pip install jupysql-plugin --upgrade\n",
    "```\n",
    "\n",
    "Then, a \"Format SQL\" button will appear in JupyterLab:\n",
    "\n",
    "\n",
    "\n",
    "## Try it out\n",
    "\n",
    "To try it, click on the 🚀 button at the top of this page, then click on Binder:\n",
    "\n",
    "![format](../static/launch-on-binder.png)\n",
    "\n",
    "Then, wait for JupyterLab to load. Once it loads, click on \"Format SQL\" and you'll see that the SQL cell below is formatted!"
   ]
  },
  {
   "cell_type": "code",
   "execution_count": null,
   "id": "aa377aa3",
   "metadata": {},
   "outputs": [],
   "source": [
    "from pathlib import Path\n",
    "from urllib.request import urlretrieve\n",
    "\n",
    "if not Path(\"penguins.csv\").is_file():\n",
    "    urlretrieve(\n",
    "        \"https://raw.githubusercontent.com/mwaskom/seaborn-data/master/penguins.csv\",\n",
    "        \"penguins.csv\",\n",
    "    )"
   ]
  },
  {
   "cell_type": "code",
   "execution_count": null,
   "id": "3d31021c",
   "metadata": {},
   "outputs": [],
   "source": [
    "%load_ext sql\n",
    "%sql duckdb://"
   ]
  },
  {
   "cell_type": "code",
   "execution_count": null,
   "id": "4185be28",
   "metadata": {},
   "outputs": [],
   "source": [
    "%%sql\n",
    "select * from penguins.csv where island = 'Torgersen' limit 3"
   ]
  }
 ],
 "metadata": {
  "jupytext": {
   "notebook_metadata_filter": "myst"
  },
  "kernelspec": {
   "display_name": "Python 3 (ipykernel)",
   "language": "python",
   "name": "python3"
  },
  "language_info": {
   "codemirror_mode": {
    "name": "ipython",
    "version": 3
   },
   "file_extension": ".py",
   "mimetype": "text/x-python",
   "name": "python",
   "nbconvert_exporter": "python",
   "pygments_lexer": "ipython3",
   "version": "3.10.11"
  },
  "myst": {
   "html_meta": {
    "description lang=en": "Format your SQL cells in Jupyter",
    "keywords": "jupyter, jupyterlab, sql",
    "property=og:locale": "en_US"
   }
  }
 },
 "nbformat": 4,
 "nbformat_minor": 5
}
